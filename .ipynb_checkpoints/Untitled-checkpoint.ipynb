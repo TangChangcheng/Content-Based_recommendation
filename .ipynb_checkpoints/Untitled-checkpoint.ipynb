{
 "cells": [
  {
   "cell_type": "code",
   "execution_count": 1,
   "metadata": {},
   "outputs": [
    {
     "data": {
      "text/plain": [
       "<torch._C.Generator at 0x7fa5a9339970>"
      ]
     },
     "execution_count": 1,
     "metadata": {},
     "output_type": "execute_result"
    }
   ],
   "source": [
    "import numpy as np\n",
    "import matplotlib.pyplot as plt\n",
    "from sklearn.metrics import roc_auc_score\n",
    "from sklearn.preprocessing import MultiLabelBinarizer\n",
    "\n",
    "import torch\n",
    "import torch.autograd as autograd # torch中自动计算梯度模块\n",
    "import torch.nn as nn             # 神经网络模块\n",
    "import torch.nn.functional as F   # 神经网络模块中的常用功能 \n",
    "import torch.optim as optim       # 模型优化器模块\n",
    "\n",
    "torch.manual_seed(1)"
   ]
  },
  {
   "cell_type": "code",
   "execution_count": 2,
   "metadata": {},
   "outputs": [],
   "source": [
    "data_path = '/Users/ice/Data/cbvrp-acmmm-2019-release-train-val/cbvrp_data/track_1_series'\n",
    "feature_path = '{}/train_val/features'.format(data_path)\n",
    "ith_frame_ft = feature_path + '/frame_ft/{}.npy'\n",
    "ith_audio_ft = feature_path + '/audio_ft/{}.npy'\n",
    "ith_video_ft = feature_path + '/video_ft/{}.npy'\n",
    "\n",
    "\n"
   ]
  },
  {
   "cell_type": "code",
   "execution_count": 3,
   "metadata": {},
   "outputs": [
    {
     "name": "stdout",
     "output_type": "stream",
     "text": [
      "(74, 2048)\n",
      "(74, 2048)\n",
      "(73, 512)\n"
     ]
    }
   ],
   "source": [
    "i = 10\n",
    "frame_ft = np.load(ith_frame_ft.format(i))\n",
    "audio_ft = np.load(ith_audio_ft.format(i))\n",
    "video_ft = np.load(ith_video_ft.format(i))\n",
    "print(frame_ft.shape)\n",
    "print(frame_ft.shape)\n",
    "print(video_ft.shape)"
   ]
  },
  {
   "cell_type": "code",
   "execution_count": 4,
   "metadata": {},
   "outputs": [
    {
     "data": {
      "text/plain": [
       "(array([205., 152., 155., 153., 153., 146., 120.,  97., 100.,  74.,  76.,\n",
       "         65.,  78.,  65.,  59.,  41.,  32.,  28.,  29.,  25.,  26.,  27.,\n",
       "         18.,  21.,  10.,  15.,  10.,  10.,   8.,  10.,   6.,   9.,   4.,\n",
       "          4.,   2.,   2.,   0.,   1.,   2.,   0.,   3.,   2.,   0.,   1.,\n",
       "          0.,   2.,   0.,   1.,   0.,   1.]),\n",
       " array([0.        , 0.04319348, 0.08638696, 0.12958044, 0.17277391,\n",
       "        0.21596739, 0.25916087, 0.30235435, 0.34554783, 0.38874131,\n",
       "        0.43193479, 0.47512826, 0.51832174, 0.56151522, 0.6047087 ,\n",
       "        0.64790218, 0.69109566, 0.73428914, 0.77748261, 0.82067609,\n",
       "        0.86386957, 0.90706305, 0.95025653, 0.99345001, 1.03664349,\n",
       "        1.07983696, 1.12303044, 1.16622392, 1.2094174 , 1.25261088,\n",
       "        1.29580436, 1.33899784, 1.38219131, 1.42538479, 1.46857827,\n",
       "        1.51177175, 1.55496523, 1.59815871, 1.64135219, 1.68454566,\n",
       "        1.72773914, 1.77093262, 1.8141261 , 1.85731958, 1.90051306,\n",
       "        1.94370654, 1.98690001, 2.03009349, 2.07328697, 2.11648045,\n",
       "        2.15967393]),\n",
       " <a list of 50 Patch objects>)"
      ]
     },
     "execution_count": 4,
     "metadata": {},
     "output_type": "execute_result"
    },
    {
     "data": {
      "image/png": "[encoded data removed]",
      "text/plain": [
       "<Figure size 432x288 with 1 Axes>"
      ]
     },
     "metadata": {},
     "output_type": "display_data"
    }
   ],
   "source": [
    "plt.figure()\n",
    "\n",
    "plt.hist(frame_ft[0], bins=50)\n",
    "# plt.hist(video_ft[0], bins=100)"
   ]
  },
  {
   "cell_type": "code",
   "execution_count": 5,
   "metadata": {},
   "outputs": [],
   "source": [
    "mlb = MultiLabelBinarizer()\n",
    "\n",
    "a = [np.random.randint(22) for i in range(200)]\n",
    "\n",
    "train_data = np.array([list(range(i, i + 5)) for i in a]).reshape(-1, 1)\n",
    "\n",
    "train_data = mlb.fit_transform(train_data)\n",
    "train_data = train_data.reshape(-1, 5, train_data.shape[-1])\n",
    "\n",
    "train_X = torch.Tensor(train_data[:, :-1, :])\n",
    "train_y = torch.Tensor(train_data[:, -1, :])\n"
   ]
  },
  {
   "cell_type": "code",
   "execution_count": 6,
   "metadata": {
    "scrolled": true
   },
   "outputs": [
    {
     "name": "stderr",
     "output_type": "stream",
     "text": [
      "/Users/ice/anaconda3/lib/python3.6/site-packages/torch/nn/functional.py:52: UserWarning: size_average and reduce args will be deprecated, please use reduction='elementwise_mean' instead.\n",
      "  warnings.warn(warning.format(ret))\n"
     ]
    }
   ],
   "source": [
    "\n",
    "\n",
    "class LSTM(nn.Module):\n",
    "\n",
    "    def __init__(self, input_dim, hidden_dim, batch_size, output_dim=1,\n",
    "                    num_layers=2):\n",
    "        super(LSTM, self).__init__()\n",
    "        self.input_dim = input_dim\n",
    "        self.hidden_dim = hidden_dim\n",
    "        self.batch_size = batch_size\n",
    "        self.num_layers = num_layers\n",
    "\n",
    "        # Define the LSTM layer\n",
    "        self.lstm = nn.LSTM(self.input_dim, self.hidden_dim, self.num_layers)\n",
    "\n",
    "        # Define the output layer\n",
    "        self.linear = nn.Linear(hidden_dim, output_dim)\n",
    "        self.softmax = nn.Sigmoid()\n",
    "\n",
    "    def init_hidden(self):\n",
    "        # This is what we'll initialise our hidden state as\n",
    "        return (autograd.Variable(torch.randn((self.num_layers, self.batch_size, self.hidden_dim))), autograd.Variable(torch.randn((self.num_layers, self.batch_size, self.hidden_dim))))\n",
    "    \n",
    "#     def forward(self, input):\n",
    "#         # Forward pass through LSTM layer\n",
    "#         # shape of lstm_out: [input_size, batch_size, hidden_dim]\n",
    "#         # shape of self.hidden: (a, b), where a and b both \n",
    "#         # have shape (num_layers, batch_size, hidden_dim).\n",
    "#         self.hidden = self.init_hidden()\n",
    "#         lstm_out, self.hidden = self.lstm(input.view(len(input), self.batch_size, -1), self.hidden)\n",
    "#         # Only take the output from the final timetep\n",
    "#         # Can pass on the entirety of lstm_out to the next layer if it is a seq2seq prediction\n",
    "#         y_pred = self.linear(lstm_out[-1].view(self.batch_size, -1))\n",
    "        \n",
    "#         return y_pred.view(-1)\n",
    "    \n",
    "    def forward(self, input):\n",
    "        self.hidden = self.init_hidden()\n",
    "        for i in input:\n",
    "            lstm_out, self.hidden = self.lstm(i.view(1, self.batch_size, -1), self.hidden)\n",
    "        return self.softmax(self.linear(lstm_out.view(self.batch_size, -1)))\n",
    "\n",
    "    \n",
    "\n",
    "\n",
    "model = LSTM(train_data.shape[-1], 16, batch_size=1, output_dim=train_data.shape[-1], num_layers=2)\n",
    "\n",
    "loss_fn = torch.nn.BCELoss(size_average=True)\n",
    "\n",
    "optimizer = torch.optim.Adam(model.parameters(), lr=2e-4)\n",
    "\n"
   ]
  },
  {
   "cell_type": "code",
   "execution_count": 7,
   "metadata": {},
   "outputs": [],
   "source": [
    "def metrics(y_pred, y_true):\n",
    "    return roc_auc_score(y_true, y_pred)\n",
    "    "
   ]
  },
  {
   "cell_type": "code",
   "execution_count": null,
   "metadata": {},
   "outputs": [
    {
     "name": "stderr",
     "output_type": "stream",
     "text": [
      "/Users/ice/anaconda3/lib/python3.6/site-packages/torch/nn/functional.py:1594: UserWarning: Using a target size (torch.Size([26, 1])) that is different to the input size (torch.Size([1, 26])) is deprecated. Please ensure they have the same size.\n",
      "  \"Please ensure they have the same size.\".format(target.size(), input.size()))\n"
     ]
    },
    {
     "name": "stdout",
     "output_type": "stream",
     "text": [
      "Epoch  0 MSE:  0.644781231880188\n",
      "Epoch  1 MSE:  0.39831146597862244\n",
      "Epoch  2 MSE:  0.23161298036575317\n",
      "Epoch  3 MSE:  0.1982080340385437\n",
      "Epoch  4 MSE:  0.18797968327999115\n",
      "Epoch  5 MSE:  0.17394894361495972\n",
      "Epoch  6 MSE:  0.17411796748638153\n",
      "Epoch  7 MSE:  0.17108510434627533\n",
      "Epoch  8 MSE:  0.17105168104171753\n",
      "Epoch  9 MSE:  0.17106667160987854\n",
      "Epoch  10 MSE:  0.17042741179466248\n",
      "Epoch  11 MSE:  0.1715407371520996\n",
      "Epoch  12 MSE:  0.1726677119731903\n",
      "Epoch  13 MSE:  0.17183491587638855\n",
      "Epoch  14 MSE:  0.17181715369224548\n",
      "Epoch  15 MSE:  0.17172002792358398\n",
      "Epoch  16 MSE:  0.17232674360275269\n",
      "Epoch  17 MSE:  0.1723284125328064\n",
      "Epoch  18 MSE:  0.1720682680606842\n",
      "Epoch  19 MSE:  0.17308726906776428\n",
      "Epoch  20 MSE:  0.17191743850708008\n",
      "Epoch  21 MSE:  0.17261026799678802\n",
      "Epoch  22 MSE:  0.17323622107505798\n",
      "Epoch  23 MSE:  0.1727355569601059\n",
      "Epoch  24 MSE:  0.17303673923015594\n",
      "Epoch  25 MSE:  0.17341110110282898\n",
      "Epoch  26 MSE:  0.17349116504192352\n",
      "Epoch  27 MSE:  0.17228204011917114\n",
      "Epoch  28 MSE:  0.17305085062980652\n",
      "Epoch  29 MSE:  0.17340460419654846\n",
      "Epoch  30 MSE:  0.17386174201965332\n",
      "Epoch  31 MSE:  0.17363902926445007\n",
      "Epoch  32 MSE:  0.17359909415245056\n",
      "Epoch  33 MSE:  0.17365604639053345\n",
      "Epoch  34 MSE:  0.17373725771903992\n",
      "Epoch  35 MSE:  0.17337661981582642\n",
      "Epoch  36 MSE:  0.1733238399028778\n",
      "Epoch  37 MSE:  0.17375344038009644\n",
      "Epoch  38 MSE:  0.17413441836833954\n",
      "Epoch  39 MSE:  0.17382170259952545\n",
      "Epoch  40 MSE:  0.17366130650043488\n",
      "Epoch  41 MSE:  0.17402972280979156\n",
      "Epoch  42 MSE:  0.1736244112253189\n",
      "Epoch  43 MSE:  0.17386123538017273\n",
      "Epoch  44 MSE:  0.17387519776821136\n",
      "Epoch  45 MSE:  0.1738378256559372\n",
      "Epoch  46 MSE:  0.17375054955482483\n",
      "Epoch  47 MSE:  0.17351427674293518\n",
      "Epoch  48 MSE:  0.17377647757530212\n",
      "Epoch  49 MSE:  0.17319585382938385\n",
      "Epoch  50 MSE:  0.17341627180576324\n",
      "Epoch  51 MSE:  0.1737685203552246\n",
      "Epoch  52 MSE:  0.1732115000486374\n",
      "Epoch  53 MSE:  0.17392462491989136\n",
      "Epoch  54 MSE:  0.172003835439682\n",
      "Epoch  55 MSE:  0.17309124767780304\n",
      "Epoch  56 MSE:  0.17326202988624573\n",
      "Epoch  57 MSE:  0.17357397079467773\n",
      "Epoch  58 MSE:  0.17262539267539978\n",
      "Epoch  59 MSE:  0.17295996844768524\n",
      "Epoch  60 MSE:  0.1716575026512146\n",
      "Epoch  61 MSE:  0.1722625344991684\n",
      "Epoch  62 MSE:  0.16867214441299438\n",
      "Epoch  63 MSE:  0.16991673409938812\n",
      "Epoch  64 MSE:  0.16834260523319244\n",
      "Epoch  65 MSE:  0.16793186962604523\n",
      "Epoch  66 MSE:  0.1636599749326706\n",
      "Epoch  67 MSE:  0.16865891218185425\n",
      "Epoch  68 MSE:  0.16458456218242645\n",
      "Epoch  69 MSE:  0.16666218638420105\n",
      "Epoch  70 MSE:  0.16546140611171722\n",
      "Epoch  71 MSE:  0.16573183238506317\n"
     ]
    }
   ],
   "source": [
    "for t in range(100):\n",
    "    # Initialise hidden state\n",
    "    # Don't do this if you want your LSTM to be stateful\n",
    "    #model.hidden = model.init_hidden()\n",
    "    \n",
    "    # Forward pass\n",
    "    \n",
    "    for X, y in zip(train_X, train_y):\n",
    "        optimizer.zero_grad()\n",
    "        y_pred = model(X.reshape(-1, 1, train_data.shape[-1]))\n",
    "        loss = loss_fn(y_pred, y.reshape(-1, 1))\n",
    "        # Zero out gradient, else they will accumulate between epochs\n",
    "        # Backward pass\n",
    "        loss.backward()\n",
    "        # Update parameters\n",
    "        optimizer.step()\n",
    "    print(\"Epoch \", t, \"MSE: \", loss.item())"
   ]
  },
  {
   "cell_type": "code",
   "execution_count": null,
   "metadata": {},
   "outputs": [],
   "source": [
    "for X in train_X:\n",
    "    y_pred = model(X.reshape(-1, 1, train_data.shape[-1]))\n",
    "    print(np.argmax(y_pred.detach().numpy()))\n",
    "    print(y_pred)\n",
    "    print(np.argmax(X.detach().numpy(), axis=-1))"
   ]
  },
  {
   "cell_type": "code",
   "execution_count": null,
   "metadata": {},
   "outputs": [],
   "source": [
    "print(train_y)"
   ]
  },
  {
   "cell_type": "code",
   "execution_count": null,
   "metadata": {},
   "outputs": [],
   "source": []
  }
 ],
 "metadata": {
  "kernelspec": {
   "display_name": "Python 3",
   "language": "python",
   "name": "python3"
  },
  "language_info": {
   "codemirror_mode": {
    "name": "ipython",
    "version": 3
   },
   "file_extension": ".py",
   "mimetype": "text/x-python",
   "name": "python",
   "nbconvert_exporter": "python",
   "pygments_lexer": "ipython3",
   "version": "3.6.5"
  }
 },
 "nbformat": 4,
 "nbformat_minor": 2
}
