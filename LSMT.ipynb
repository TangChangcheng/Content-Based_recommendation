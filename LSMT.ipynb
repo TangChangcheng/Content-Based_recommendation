{
 "cells": [
  {
   "cell_type": "code",
   "execution_count": 180,
   "metadata": {
    "collapsed": false
   },
   "outputs": [],
   "source": [
    "import numpy as np\n",
    "import pandas as pd\n",
    "from sklearn.model_selection import train_test_split\n",
    "import torch\n",
    "import torch.nn as nn\n",
    "#from generate_data import *\n",
    "import matplotlib.pyplot as plt"
   ]
  },
  {
   "cell_type": "code",
   "execution_count": 181,
   "metadata": {
    "collapsed": true
   },
   "outputs": [],
   "source": [
    "####\n",
    "#read in data\n",
    "####\n",
    "col = [\"1\",\"2\",\"3\",\"4\",\"5\",\"6\"]\n",
    "X = pd.read_csv(\"./data.csv\",sep=\",\",names = col)\n",
    "Y = pd.read_csv(\"./label.csv\",sep=\",\",names = [\"label\"])"
   ]
  },
  {
   "cell_type": "code",
   "execution_count": 200,
   "metadata": {
    "collapsed": false
   },
   "outputs": [],
   "source": [
    "\n",
    "#####################\n",
    "# Set parameters\n",
    "#####################\n",
    "\n",
    "# Data params\n",
    "noise_var = 0\n",
    "num_datapoints = len(X)\n",
    "test_size = 0.2\n",
    "num_train = int((1-test_size) * num_datapoints)\n",
    "num_train = num_train-num_train%100\n",
    "\n",
    "# Network params\n",
    "input_size = 6   #length of input vector x\n",
    "batch_block_size = 100\n",
    "# If `per_element` is True, then LSTM reads in one timestep at a time.\n",
    "per_element = True\n",
    "if per_element:\n",
    "    lstm_input_size = 1\n",
    "else:\n",
    "    lstm_input_size = input_size\n",
    "# size of hidden layers\n",
    "h1 = 32    #hiddle dimension\n",
    "output_dim = 1\n",
    "num_layers = 4\n",
    "learning_rate = 1e-2     #learning rate\n",
    "num_epochs = 1000     # training interation times"
   ]
  },
  {
   "cell_type": "code",
   "execution_count": 201,
   "metadata": {
    "collapsed": false
   },
   "outputs": [],
   "source": [
    "#####################\n",
    "# Generate data\n",
    "#####################\n",
    "# make training and test sets in torch\n",
    "X_train = X.loc[0:num_train-1,:]\n",
    "y_train = Y.loc[0:num_train-1,:]\n",
    "X_test = X.loc[num_train:,:]\n",
    "y_test = Y.loc[num_train:,:]\n",
    "\n",
    "X_train = torch.tensor(X_train.values,dtype=torch.float)\n",
    "X_test = torch.tensor(X_test.values,dtype=torch.float)\n",
    "y_train = torch.tensor(y_train.values,dtype=torch.float).view(-1)\n",
    "y_test = torch.tensor(y_test.values,dtype=torch.float).view(-1)\n",
    "\n",
    "X_train = X_train.view([input_size, -1, 1])\n",
    "X_test = X_test.view([input_size, -1, 1])\n"
   ]
  },
  {
   "cell_type": "code",
   "execution_count": 202,
   "metadata": {
    "collapsed": false
   },
   "outputs": [
    {
     "name": "stdout",
     "output_type": "stream",
     "text": [
      "(torch.Size([6, 2000, 1]), 2000)\n"
     ]
    }
   ],
   "source": [
    "print(X_train.size(),num_train)"
   ]
  },
  {
   "cell_type": "code",
   "execution_count": 203,
   "metadata": {
    "collapsed": false
   },
   "outputs": [],
   "source": [
    "#####################\n",
    "# Build model\n",
    "#####################\n",
    "\n",
    "# Here we define our model as a class\n",
    "class LSTM(nn.Module):\n",
    "\n",
    "    def __init__(self, input_dim, hidden_dim, batch_size, output_dim=1,\n",
    "                    num_layers=2):\n",
    "        super(LSTM, self).__init__()\n",
    "        self.input_dim = input_dim\n",
    "        self.hidden_dim = hidden_dim\n",
    "        self.batch_size = batch_size\n",
    "        self.num_layers = num_layers\n",
    "\n",
    "        # Define the LSTM layer\n",
    "        self.lstm = nn.LSTM(self.input_dim, self.hidden_dim, self.num_layers)\n",
    "\n",
    "        # Define the output layer\n",
    "        self.linear = nn.Linear(self.hidden_dim, output_dim)\n",
    "\n",
    "    def init_hidden(self):\n",
    "        # This is what we'll initialise our hidden state as\n",
    "        return (torch.zeros(self.num_layers, self.batch_size, self.hidden_dim),\n",
    "                torch.zeros(self.num_layers, self.batch_size, self.hidden_dim))\n",
    "\n",
    "    def forward(self, input):\n",
    "        # Forward pass through LSTM layer\n",
    "        # shape of lstm_out: [input_size, batch_size, hidden_dim]\n",
    "        # shape of self.hidden: (a, b), where a and b both \n",
    "        # have shape (num_layers, batch_size, hidden_dim).\n",
    "        lstm_out, self.hidden = self.lstm(input.view(len(input), self.batch_size, -1))\n",
    "        # Only take the output from the final timetep\n",
    "        # Can pass on the entirety of lstm_out to the next layer if it is a seq2seq prediction\n",
    "        y_pred = self.linear(lstm_out[-1].view(self.batch_size, -1))\n",
    "        return y_pred.view(-1)\n",
    "\n",
    "model = LSTM(lstm_input_size, h1, batch_size=num_train, output_dim=output_dim, num_layers=num_layers)\n",
    "\n",
    "loss_fn = torch.nn.MSELoss(size_average=False)\n",
    "\n",
    "optimiser = torch.optim.Adam(model.parameters(), lr=learning_rate)\n",
    "\n",
    "\n"
   ]
  },
  {
   "cell_type": "code",
   "execution_count": 204,
   "metadata": {
    "collapsed": false
   },
   "outputs": [],
   "source": [
    "# model.hidden = model.init_hidden()\n",
    "# y_pred = model(X_train)\n",
    "# print (y_pred)"
   ]
  },
  {
   "cell_type": "code",
   "execution_count": 205,
   "metadata": {
    "collapsed": false
   },
   "outputs": [
    {
     "name": "stdout",
     "output_type": "stream",
     "text": [
      "('Epoch ', 0, 'MSE: ', 6531080.5)\n",
      "('mean: ', tensor(-0.0502, grad_fn=<MeanBackward0>))\n",
      "tensor([-0.0502, -0.0502, -0.0502,  ..., -0.0502, -0.0501, -0.0501],\n",
      "       grad_fn=<ViewBackward>)\n",
      "('Epoch ', 100, 'MSE: ', 1444847.5)\n",
      "('mean: ', tensor(32.1165, grad_fn=<MeanBackward0>))\n",
      "tensor([32.1164, 32.1164, 32.1164,  ..., 32.1164, 32.1164, 32.1164],\n",
      "       grad_fn=<ViewBackward>)\n",
      "('Epoch ', 200, 'MSE: ', 446345.15625)\n",
      "('mean: ', tensor(48.4562, grad_fn=<MeanBackward0>))\n",
      "tensor([48.4562, 48.4562, 48.4562,  ..., 48.4562, 48.4562, 48.4562],\n",
      "       grad_fn=<ViewBackward>)\n",
      "('Epoch ', 300, 'MSE: ', 349361.46875)\n",
      "('mean: ', tensor(54.1416, grad_fn=<MeanBackward0>))\n",
      "tensor([54.1416, 54.1416, 54.1416,  ..., 54.1416, 54.1416, 54.1416],\n",
      "       grad_fn=<ViewBackward>)\n",
      "('Epoch ', 400, 'MSE: ', 345384.6875)\n",
      "('mean: ', tensor(55.3809, grad_fn=<MeanBackward0>))\n",
      "tensor([55.3808, 55.3808, 55.3808,  ..., 55.3808, 55.3808, 55.3808],\n",
      "       grad_fn=<ViewBackward>)\n",
      "('Epoch ', 500, 'MSE: ', 345318.34375)\n",
      "('mean: ', tensor(55.5489, grad_fn=<MeanBackward0>))\n",
      "tensor([55.5489, 55.5489, 55.5489,  ..., 55.5489, 55.5489, 55.5489],\n",
      "       grad_fn=<ViewBackward>)\n",
      "('Epoch ', 600, 'MSE: ', 345317.9375)\n",
      "('mean: ', tensor(55.5628, grad_fn=<MeanBackward0>))\n",
      "tensor([55.5628, 55.5628, 55.5628,  ..., 55.5628, 55.5628, 55.5628],\n",
      "       grad_fn=<ViewBackward>)\n",
      "('Epoch ', 700, 'MSE: ', 345317.9375)\n",
      "('mean: ', tensor(55.5635, grad_fn=<MeanBackward0>))\n",
      "tensor([55.5635, 55.5635, 55.5635,  ..., 55.5635, 55.5635, 55.5635],\n",
      "       grad_fn=<ViewBackward>)\n",
      "('Epoch ', 800, 'MSE: ', 345317.9375)\n",
      "('mean: ', tensor(55.5635, grad_fn=<MeanBackward0>))\n",
      "tensor([55.5635, 55.5635, 55.5635,  ..., 55.5635, 55.5635, 55.5635],\n",
      "       grad_fn=<ViewBackward>)\n",
      "('Epoch ', 900, 'MSE: ', 345317.9375)\n",
      "('mean: ', tensor(55.5635, grad_fn=<MeanBackward0>))\n",
      "tensor([55.5635, 55.5635, 55.5635,  ..., 55.5635, 55.5635, 55.5635],\n",
      "       grad_fn=<ViewBackward>)\n"
     ]
    }
   ],
   "source": [
    "\n",
    "#####################\n",
    "# Train model\n",
    "#####################\n",
    "\n",
    "hist = np.zeros(num_epochs)\n",
    "\n",
    "model.hidden = model.init_hidden()\n",
    "for t in range(num_epochs):\n",
    "    # Initialise hidden state\n",
    "    # Don't do this if you want your LSTM to be stateful\n",
    "    #model.hidden = model.init_hidden()\n",
    "    \n",
    "    # Forward pass\n",
    "    y_pred = model(X_train)\n",
    "\n",
    "    loss = loss_fn(y_pred, y_train)\n",
    "    if t % 100 == 0:\n",
    "        print(\"Epoch \", t, \"MSE: \", loss.item())\n",
    "        print(\"mean: \", y_pred.mean())\n",
    "        print(y_pred)\n",
    "    hist[t] = loss.item()\n",
    "\n",
    "    # Zero out gradient, else they will accumulate between epochs\n",
    "    optimiser.zero_grad()\n",
    "\n",
    "    # Backward pass\n",
    "    loss.backward()\n",
    "\n",
    "    # Update parameters\n",
    "    optimiser.step()\n",
    "\n"
   ]
  },
  {
   "cell_type": "code",
   "execution_count": 164,
   "metadata": {
    "collapsed": false
   },
   "outputs": [
    {
     "name": "stdout",
     "output_type": "stream",
     "text": [
      "[32.33136  32.33138  32.33137  ... 32.331398 32.331398 32.331406]\n"
     ]
    },
    {
     "data": {
      "image/png": "[encoded data removed]",
      "text/plain": [
       "<matplotlib.figure.Figure at 0x11a9579d0>"
      ]
     },
     "metadata": {},
     "output_type": "display_data"
    },
    {
     "data": {
      "image/png": "[encoded data removed]",
      "text/plain": [
       "<matplotlib.figure.Figure at 0x10416f5d0>"
      ]
     },
     "metadata": {},
     "output_type": "display_data"
    }
   ],
   "source": [
    "#####################\n",
    "# Plot preds and performance\n",
    "#####################\n",
    "\n",
    "plt.plot(y_pred.detach().numpy(), label=\"Preds\")\n",
    "print(y_pred.detach().numpy())\n",
    "plt.plot(y_train.detach().numpy(), label=\"Data\")\n",
    "plt.legend()\n",
    "plt.show()\n",
    "\n",
    "plt.plot(hist, label=\"Training loss\")\n",
    "plt.legend()\n",
    "plt.show()"
   ]
  },
  {
   "cell_type": "code",
   "execution_count": null,
   "metadata": {
    "collapsed": true
   },
   "outputs": [],
   "source": []
  },
  {
   "cell_type": "code",
   "execution_count": null,
   "metadata": {
    "collapsed": true
   },
   "outputs": [],
   "source": []
  }
 ],
 "metadata": {
  "kernelspec": {
   "display_name": "Python 2",
   "language": "python",
   "name": "python2"
  },
  "language_info": {
   "codemirror_mode": {
    "name": "ipython",
    "version": 2
   },
   "file_extension": ".py",
   "mimetype": "text/x-python",
   "name": "python",
   "nbconvert_exporter": "python",
   "pygments_lexer": "ipython2",
   "version": "2.7.6"
  }
 },
 "nbformat": 4,
 "nbformat_minor": 2
}
